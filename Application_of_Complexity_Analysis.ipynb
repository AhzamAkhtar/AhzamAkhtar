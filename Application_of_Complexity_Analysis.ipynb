{
  "nbformat": 4,
  "nbformat_minor": 0,
  "metadata": {
    "colab": {
      "name": "Application of Complexity Analysis",
      "provenance": [],
      "collapsed_sections": [],
      "authorship_tag": "ABX9TyNZW35D/hC7Y913pZeXubWj",
      "include_colab_link": true
    },
    "kernelspec": {
      "name": "python3",
      "display_name": "Python 3"
    },
    "language_info": {
      "name": "python"
    }
  },
  "cells": [
    {
      "cell_type": "markdown",
      "metadata": {
        "id": "view-in-github",
        "colab_type": "text"
      },
      "source": [
        "<a href=\"https://colab.research.google.com/github/AhzamAkhtar/AhzamAkhtar/blob/main/Application_of_Complexity_Analysis.ipynb\" target=\"_parent\"><img src=\"https://colab.research.google.com/assets/colab-badge.svg\" alt=\"Open In Colab\"/></a>"
      ]
    },
    {
      "cell_type": "markdown",
      "source": [
        "# Find Power"
      ],
      "metadata": {
        "id": "zMxH3Pfiwpl-"
      }
    },
    {
      "cell_type": "code",
      "execution_count": null,
      "metadata": {
        "id": "b8HRsPpO6_jN"
      },
      "outputs": [],
      "source": [
        "def power(x,n):\n",
        "  if n==0:\n",
        "    return 1\n",
        "  smallpower=power(x,n//2)\n",
        "  if n%2==0:\n",
        "    return smallpower*smallpower\n",
        "  else:\n",
        "    return x*smallpower*smallpower"
      ]
    },
    {
      "cell_type": "code",
      "source": [
        "power(5,2)"
      ],
      "metadata": {
        "colab": {
          "base_uri": "https://localhost:8080/"
        },
        "id": "8C5REApF7nvu",
        "outputId": "e9b0a4cf-1ff5-4fc7-c661-359c10706ce6"
      },
      "execution_count": null,
      "outputs": [
        {
          "output_type": "execute_result",
          "data": {
            "text/plain": [
              "25"
            ]
          },
          "metadata": {},
          "execution_count": 5
        }
      ]
    },
    {
      "cell_type": "markdown",
      "source": [
        "# Array Intersection"
      ],
      "metadata": {
        "id": "DY8SpvlcwvN7"
      }
    },
    {
      "cell_type": "code",
      "source": [
        "def intersection(arr1,arr2,n,m):\n",
        "  arr1.sort()\n",
        "  arr2.sort()\n",
        "  i,j=0,0\n",
        "  final=[]\n",
        "  count=0\n",
        "  while (i<n and j<m):\n",
        "    if (arr1[i]==arr2[j]):\n",
        "      #final.append(arr1[i])\n",
        "      count=count+1\n",
        "      i=i+1\n",
        "      j=j+1\n",
        "    elif (arr1[i]<arr2[j]):\n",
        "      i=i+1\n",
        "    else:\n",
        "      j=j+1\n",
        "  return count\n",
        "\n"
      ],
      "metadata": {
        "id": "z_7iX_1-9Gm7"
      },
      "execution_count": null,
      "outputs": []
    },
    {
      "cell_type": "code",
      "source": [
        "n=4\n",
        "arr1=[2,6,1,2]\n",
        "m=5\n",
        "arr2=[1,2,3,4,2]\n",
        "intersection(arr1,arr2,n,m)"
      ],
      "metadata": {
        "colab": {
          "base_uri": "https://localhost:8080/"
        },
        "id": "CL9vJvoNSIlA",
        "outputId": "2129f2c7-1aca-450c-d347-93fc5ad6bb52"
      },
      "execution_count": null,
      "outputs": [
        {
          "output_type": "execute_result",
          "data": {
            "text/plain": [
              "3"
            ]
          },
          "metadata": {},
          "execution_count": 16
        }
      ]
    },
    {
      "cell_type": "markdown",
      "source": [
        "# Equilibrium Point OR Pivot point"
      ],
      "metadata": {
        "id": "Wqlhk3pRwhfe"
      }
    },
    {
      "cell_type": "code",
      "source": [
        "def arrayEquilibriumIndex(arr, n):\n",
        "  totalsum=0\n",
        "  i=0\n",
        "  while i<len(arr):\n",
        "    totalsum=totalsum+arr[i]\n",
        "    i=i+1\n",
        "  leftsum=0\n",
        "  index=0\n",
        "  while index<len(arr):\n",
        "    rightsum=totalsum-leftsum-arr[index]\n",
        "    if rightsum==leftsum:\n",
        "      return index\n",
        "    leftsum=leftsum+arr[index]\n",
        "    index=index+1\n",
        "  return -1"
      ],
      "metadata": {
        "id": "xUCkRzJMSq2h"
      },
      "execution_count": null,
      "outputs": []
    },
    {
      "cell_type": "code",
      "source": [
        "n=5\n",
        "arr121=[1,4,9,3,2]\n",
        "arrayEquilibriumIndex(arr121,5)"
      ],
      "metadata": {
        "colab": {
          "base_uri": "https://localhost:8080/"
        },
        "id": "G79ESBradAac",
        "outputId": "783726b6-7417-409c-ce5b-1b85c95e23a3"
      },
      "execution_count": null,
      "outputs": [
        {
          "output_type": "execute_result",
          "data": {
            "text/plain": [
              "2"
            ]
          },
          "metadata": {},
          "execution_count": 33
        }
      ]
    },
    {
      "cell_type": "markdown",
      "source": [
        "# Sort 0 1 2"
      ],
      "metadata": {
        "id": "nf-bXIpuHyN3"
      }
    },
    {
      "cell_type": "code",
      "source": [
        "def sort012(arr,n):\n",
        "  low=0\n",
        "  high=len(arr)-1\n",
        "  mid=0\n",
        "  while mid<=high:\n",
        "    if arr[mid]==0:\n",
        "      arr[low],arr[mid]=arr[mid],arr[low]\n",
        "      low=low+1\n",
        "      mid=mid+1\n",
        "    elif arr[mid]==1:\n",
        "      mid=mid+1\n",
        "    else:\n",
        "      arr[mid],arr[high]=arr[high],arr[mid]\n",
        "      high=high-1\n",
        "  return arr\n",
        "# Time Complexity is O(n)\n",
        "# Space Complexity is O(1)"
      ],
      "metadata": {
        "id": "67b_glj68IyM"
      },
      "execution_count": null,
      "outputs": []
    },
    {
      "cell_type": "code",
      "source": [
        "arr=[0, 1, 1, 0, 1, 2, 1, 2, 0, 0, 0, 1]\n",
        "n=12\n",
        "sort012(arr,n)"
      ],
      "metadata": {
        "colab": {
          "base_uri": "https://localhost:8080/"
        },
        "id": "gYrdt8T_Ge8h",
        "outputId": "8130283a-1932-446c-d408-a0b8b8683a90"
      },
      "execution_count": null,
      "outputs": [
        {
          "output_type": "execute_result",
          "data": {
            "text/plain": [
              "[0, 0, 0, 0, 0, 1, 1, 1, 1, 1, 2, 2]"
            ]
          },
          "metadata": {},
          "execution_count": 46
        }
      ]
    },
    {
      "cell_type": "markdown",
      "source": [
        "# Sort 0 ,1"
      ],
      "metadata": {
        "id": "U_UPVj2UM-FP"
      }
    },
    {
      "cell_type": "code",
      "source": [
        "arr=[1,1,1,1]\n",
        "low=0\n",
        "high=len(arr)-1\n",
        "while low<=high:\n",
        "  if arr[low]==0:\n",
        "    low=low+1\n",
        "  elif arr[high]==1:\n",
        "    high=high-1\n",
        "  elif arr[low]>arr[high]:\n",
        "    arr[low],arr[high]=arr[high],arr[low]\n",
        "    low=low+1\n",
        "    high=high-1\n",
        "  else:\n",
        "    pass\n",
        "print(arr)"
      ],
      "metadata": {
        "colab": {
          "base_uri": "https://localhost:8080/"
        },
        "id": "0xltZpGWH4X0",
        "outputId": "030e4925-1668-4bf0-c373-30d4f244970b"
      },
      "execution_count": null,
      "outputs": [
        {
          "output_type": "stream",
          "name": "stdout",
          "text": [
            "[1, 1, 1, 1]\n"
          ]
        }
      ]
    },
    {
      "cell_type": "markdown",
      "source": [
        "# Number of Occurance"
      ],
      "metadata": {
        "id": "gPCt421wW03d"
      }
    },
    {
      "cell_type": "code",
      "source": [
        "import time\n",
        "def first(arr,x):\n",
        "  count=0\n",
        "  for i in range(0,len(arr),1):\n",
        "    if arr[i]==x:\n",
        "      count=count+1\n",
        "  return count\n",
        "\n",
        "arr=[1, 1, 2, 2, 2, 2, 3]\n",
        "x=2\n",
        "start=time.time()\n",
        "first(arr,x)\n",
        "end=time.time()\n",
        "print(end-start)\n",
        "      "
      ],
      "metadata": {
        "colab": {
          "base_uri": "https://localhost:8080/"
        },
        "id": "cw6jSUWwPs2H",
        "outputId": "8a159b20-c5b3-4479-c5f0-db5f17cce693"
      },
      "execution_count": null,
      "outputs": [
        {
          "output_type": "stream",
          "name": "stdout",
          "text": [
            "6.771087646484375e-05\n"
          ]
        }
      ]
    },
    {
      "cell_type": "code",
      "source": [
        "import time\n",
        "def sec(arr,x):\n",
        "  count=0\n",
        "  low=0\n",
        "  high=len(arr)-1\n",
        "  while low<=high:\n",
        "    if arr[low]!=x:\n",
        "      low=low+1\n",
        "    elif arr[high]!=x:\n",
        "      high=high-1\n",
        "    elif arr[low]==x:\n",
        "      count=count+1\n",
        "      low=low+1\n",
        "    elif arr[high]==x:\n",
        "      count=count+1\n",
        "      high=high-1\n",
        "  return count\n",
        "\n",
        "arr=[1, 1, 2, 2, 2, 2, 3]\n",
        "x=2\n",
        "start=time.time()\n",
        "sec(arr,x)\n",
        "end=time.time()\n",
        "print(end-start)"
      ],
      "metadata": {
        "colab": {
          "base_uri": "https://localhost:8080/"
        },
        "id": "X8rh8jISUoGh",
        "outputId": "4cbdd4d8-1459-4193-b0ef-2527d54ba950"
      },
      "execution_count": null,
      "outputs": [
        {
          "output_type": "stream",
          "name": "stdout",
          "text": [
            "8.344650268554688e-05\n"
          ]
        }
      ]
    },
    {
      "cell_type": "markdown",
      "source": [
        "# Reverse Array"
      ],
      "metadata": {
        "id": "5kSmz0id_Wps"
      }
    },
    {
      "cell_type": "code",
      "source": [
        "T=int(input(\"\"))\n",
        "i=1\n",
        "while i<=T:\n",
        "  N=int(input(\"\"))\n",
        "  arr=[int(x) for x in input().split()]\n",
        "  start=0\n",
        "  end=len(arr)-1\n",
        "  while start<=end:\n",
        "    arr[start],arr[end]=arr[end],arr[start]\n",
        "    start=start+1\n",
        "    end=end-1\n",
        "  for z in arr:\n",
        "    print(z,end=\" \")\n",
        "  i=i+1\n",
        "  print()\n"
      ],
      "metadata": {
        "colab": {
          "base_uri": "https://localhost:8080/"
        },
        "id": "B2T5vTq_83Ga",
        "outputId": "92db567d-1beb-420f-c550-3bf367ea8d0b"
      },
      "execution_count": null,
      "outputs": [
        {
          "output_type": "stream",
          "name": "stdout",
          "text": [
            "2\n",
            "4\n",
            "1 2 3 4\n",
            "4 3 2 1 \n",
            "3\n",
            "1 2 3\n",
            "3 2 1 \n"
          ]
        }
      ]
    },
    {
      "cell_type": "markdown",
      "source": [
        "# Move All Zeroes To End"
      ],
      "metadata": {
        "id": "ggQTE6aFJecj"
      }
    },
    {
      "cell_type": "code",
      "source": [
        "arr=[3,5,0,0,4]\n",
        "i=0\n",
        "for j in range(0,len(arr),1):\n",
        "  if arr[j]!=0:\n",
        "    arr[j],arr[i]=arr[i],arr[j]\n",
        "    i=i+1\n",
        "  else:\n",
        "    pass\n",
        "print(arr)"
      ],
      "metadata": {
        "colab": {
          "base_uri": "https://localhost:8080/"
        },
        "id": "EdWSXe3qHjwY",
        "outputId": "101df646-f62e-4378-aba4-06f7098faa1e"
      },
      "execution_count": null,
      "outputs": [
        {
          "output_type": "stream",
          "name": "stdout",
          "text": [
            "[3, 5, 4, 0, 0]\n"
          ]
        }
      ]
    },
    {
      "cell_type": "markdown",
      "source": [
        "# Fisr and Last Occurance of a Number And Number of Occurance"
      ],
      "metadata": {
        "id": "lNor94nNWrtO"
      }
    },
    {
      "cell_type": "code",
      "source": [
        "def firstocc(arr,x):\n",
        "  lowerbound=0\n",
        "  upperbound=len(arr)\n",
        "  while lowerbound<=upperbound:\n",
        "    middle=(lowerbound+upperbound)//2\n",
        "    if x==arr[middle]:\n",
        "      ans=middle\n",
        "      upperbound=middle-1\n",
        "    elif x<arr[middle]:\n",
        "      upperbound=middle-1\n",
        "    elif x>arr[middle]:\n",
        "      lowerbound=middle+1\n",
        "    else:\n",
        "      ans=-1\n",
        "  return ans\n",
        "\n",
        "def lowerocc(arr,x):\n",
        "  lowerbound=0\n",
        "  upperbound=len(arr)\n",
        "  while lowerbound<=upperbound:\n",
        "    middle=(lowerbound+upperbound)//2 \n",
        "    if x==arr[middle]:\n",
        "      ans=middle\n",
        "      lowerbound=middle+1\n",
        "    elif x<arr[middle]:\n",
        "      upperbound=middle-1\n",
        "    elif x>arr[middle]:\n",
        "      lowerbound=lowerbound+1\n",
        "    else:\n",
        "      ans=-1\n",
        "  return ans\n",
        "\n",
        "\n",
        "arr=[1, 3, 5, 5, 5, 5, 7, 123, 125]\n",
        "x=7\n",
        "first=firstocc(arr,x)\n",
        "second=lowerocc(arr,x)\n",
        "print(first,second)\n",
        "# Number of Occurance\n",
        "print((second-first)+1)\n",
        "  "
      ],
      "metadata": {
        "colab": {
          "base_uri": "https://localhost:8080/"
        },
        "id": "DhhqWKJ8SNrM",
        "outputId": "53b4e218-edfb-4563-cca4-d534592621f2"
      },
      "execution_count": null,
      "outputs": [
        {
          "output_type": "stream",
          "name": "stdout",
          "text": [
            "6 6\n",
            "1\n"
          ]
        }
      ]
    },
    {
      "cell_type": "markdown",
      "source": [
        "# Mountain Peak Question"
      ],
      "metadata": {
        "id": "LmHaLlMckqPV"
      }
    },
    {
      "cell_type": "code",
      "source": [
        "arr=[0,5,10,2]\n",
        "start=0\n",
        "end=len(arr)-1\n",
        "while start<end:\n",
        "  middle=(start+end)//2\n",
        "  if arr[middle]<arr[middle+1]:\n",
        "    start=middle+1\n",
        "  else:\n",
        "    end=middle\n",
        "print(start)\n"
      ],
      "metadata": {
        "colab": {
          "base_uri": "https://localhost:8080/"
        },
        "id": "RMMiw178jlQY",
        "outputId": "6f4d5767-0684-42ee-c116-e4ce6dc807ca"
      },
      "execution_count": null,
      "outputs": [
        {
          "output_type": "stream",
          "name": "stdout",
          "text": [
            "2\n"
          ]
        }
      ]
    },
    {
      "cell_type": "markdown",
      "source": [
        "# Find Pivot Point in a Sorted rotated Array"
      ],
      "metadata": {
        "id": "5EsLKV9orpkA"
      }
    },
    {
      "cell_type": "code",
      "source": [
        "arr=[3,8,10,17,1]\n",
        "start=0\n",
        "end=len(arr)-1\n",
        "while start<end:\n",
        "  middle=(start+end)//2\n",
        "  if arr[middle]>=arr[0]:\n",
        "    start=middle+1\n",
        "  else:\n",
        "    end=middle\n",
        "print(start)"
      ],
      "metadata": {
        "colab": {
          "base_uri": "https://localhost:8080/"
        },
        "id": "4QJDmX-pq8Sq",
        "outputId": "e1d2333e-e36d-4c23-a6aa-381dafa3163a"
      },
      "execution_count": null,
      "outputs": [
        {
          "output_type": "stream",
          "name": "stdout",
          "text": [
            "4\n"
          ]
        }
      ]
    },
    {
      "cell_type": "markdown",
      "source": [
        "# Rotate Array"
      ],
      "metadata": {
        "id": "YurEOwTkXsb7"
      }
    },
    {
      "cell_type": "code",
      "source": [
        "def rotateArray(arr,n,d):\n",
        "  temp=[]\n",
        "  i=0\n",
        "  while (i<d):\n",
        "    temp.append(arr[i])\n",
        "    i=i+1\n",
        "  i=0\n",
        "  while (n>d):\n",
        "    arr[i]=arr[d]\n",
        "    i=i+1\n",
        "    d=d+1\n",
        "  arr[:]=arr[:i]+temp\n",
        "  return arr\n",
        "arr=[1,2,3,4,5,6,7]\n",
        "rotateArray(arr,len(arr),2)"
      ],
      "metadata": {
        "colab": {
          "base_uri": "https://localhost:8080/"
        },
        "id": "EomxJk_RMtYN",
        "outputId": "f644440b-3c7d-42c0-f45c-0ab6303d8cab"
      },
      "execution_count": null,
      "outputs": [
        {
          "output_type": "execute_result",
          "data": {
            "text/plain": [
              "[3, 4, 5, 6, 7, 1, 2]"
            ]
          },
          "metadata": {},
          "execution_count": 16
        }
      ]
    },
    {
      "cell_type": "markdown",
      "source": [
        "# Check if array is sorted"
      ],
      "metadata": {
        "id": "_WD7aTJYeChL"
      }
    },
    {
      "cell_type": "code",
      "source": [
        "arr=[10, 20, 5, 40, 50]\n",
        "n=len(arr)\n",
        "if n==0 or n==1:\n",
        "  print(True)\n",
        "for i in range(1,n):\n",
        "  if arr[i-1]>arr[i]:\n",
        "    print(False)\n",
        "print(True)"
      ],
      "metadata": {
        "colab": {
          "base_uri": "https://localhost:8080/"
        },
        "id": "CIjXwJz7anvA",
        "outputId": "ebac4ff1-95f9-4d38-d0ca-9ee2d9be55f5"
      },
      "execution_count": null,
      "outputs": [
        {
          "output_type": "stream",
          "name": "stdout",
          "text": [
            "False\n",
            "True\n"
          ]
        }
      ]
    },
    {
      "cell_type": "markdown",
      "source": [
        "# Check if array is sorted and Rotated"
      ],
      "metadata": {
        "id": "yw99KZ4Qhhnj"
      }
    },
    {
      "cell_type": "code",
      "source": [
        "arr=[3,4,5,1,2]\n",
        "n=len(arr)\n",
        "count=0\n",
        "for i in range(1,n,1):\n",
        "  if arr[i-1]>arr[i]:\n",
        "    count=count+1\n",
        "if arr[n-1]>arr[0]:\n",
        "  count=count+1\n",
        "\n",
        "print(count)\n",
        "if count<=1:\n",
        "  print(True)\n",
        "else:\n",
        "  print(False)"
      ],
      "metadata": {
        "colab": {
          "base_uri": "https://localhost:8080/"
        },
        "id": "9DzYgww4grPw",
        "outputId": "046a83b5-b534-4497-abc8-95b9c5d28b98"
      },
      "execution_count": null,
      "outputs": [
        {
          "output_type": "stream",
          "name": "stdout",
          "text": [
            "1\n",
            "True\n"
          ]
        }
      ]
    },
    {
      "cell_type": "code",
      "source": [
        "a=[4,5,1]\n",
        "b=[3,4,5]\n",
        "i=len(a)-1\n",
        "j=len(b)-1\n",
        "carry=0\n",
        "while i>=0 and j>=0:\n",
        "  ans=[]\n",
        "  val1=a[i]\n",
        "  val2=b[j]\n",
        "  sum=val1+val2+carry\n",
        "  carry=sum/10\n",
        "  sum=sum%10\n",
        "  ans.append(sum)\n",
        "  i=i-1\n",
        "  j=j-1\n",
        "while i>=0:\n",
        "  ans=[]\n",
        "  sum=a[i]+carry\n",
        "  carry=sum/10\n",
        "  sum=sum%10\n",
        "  ans.append(sum)\n",
        "  i=i-1\n",
        "while j>=0:\n",
        "  ans=[]\n",
        "  sum=b[j]+carry\n",
        "  carry=sum/10\n",
        "  sum=sum%10\n",
        "  ans.append(sum)\n",
        "  j=j-1\n",
        "while carry!=0:\n",
        "  ans=[]\n",
        "  sum=carry\n",
        "  carry=sum/10\n",
        "  sum=sum%10\n",
        "  ans.append(sum)"
      ],
      "metadata": {
        "id": "OCQwjlna1JM4"
      },
      "execution_count": null,
      "outputs": []
    },
    {
      "cell_type": "code",
      "source": [
        "ans"
      ],
      "metadata": {
        "colab": {
          "base_uri": "https://localhost:8080/"
        },
        "id": "cHSQmI0T5-lq",
        "outputId": "27c77177-751e-416b-f27b-5893dbe6144d"
      },
      "execution_count": null,
      "outputs": [
        {
          "output_type": "execute_result",
          "data": {
            "text/plain": [
              "[1e-323]"
            ]
          },
          "metadata": {},
          "execution_count": 8
        }
      ]
    },
    {
      "cell_type": "markdown",
      "source": [
        "# Square Root of a Number"
      ],
      "metadata": {
        "id": "2tfevBtAadl5"
      }
    },
    {
      "cell_type": "code",
      "source": [
        "def findp(n):\n",
        "  lowerbound=0\n",
        "  upperbound=n\n",
        "  ans=-1\n",
        "  while lowerbound<=upperbound:\n",
        "    middle=(lowerbound+upperbound)//2\n",
        "    square=middle*middle\n",
        "    if square==n:\n",
        "      return middle\n",
        "    elif square<n:\n",
        "      ans=middle\n",
        "      lowerbound=middle+1\n",
        "    else:\n",
        "      upperbound=middle-1\n",
        "  return ans\n",
        "\n",
        "findp(5)\n",
        "\n",
        "\n",
        "\n"
      ],
      "metadata": {
        "id": "FJj6vLXx6M2a",
        "colab": {
          "base_uri": "https://localhost:8080/"
        },
        "outputId": "ec6b5242-38ae-4cc9-a281-3a750366b234"
      },
      "execution_count": 12,
      "outputs": [
        {
          "output_type": "execute_result",
          "data": {
            "text/plain": [
              "2"
            ]
          },
          "metadata": {},
          "execution_count": 12
        }
      ]
    }
  ]
}